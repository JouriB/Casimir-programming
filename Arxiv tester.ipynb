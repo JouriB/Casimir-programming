{
 "cells": [
  {
   "cell_type": "code",
   "execution_count": 51,
   "metadata": {
    "collapsed": false
   },
   "outputs": [
    {
     "name": "stdout",
     "output_type": "stream",
     "text": [
      "[ 92  88  88 100 101 131  76  69  73  95]\n"
     ]
    },
    {
     "data": {
      "text/plain": [
       "<matplotlib.text.Text at 0x7f9834568190>"
      ]
     },
     "execution_count": 51,
     "metadata": {},
     "output_type": "execute_result"
    },
    {
     "data": {
      "image/png": "[encoded data removed]",
      "text/plain": [
       "<matplotlib.figure.Figure at 0x7f9834766450>"
      ]
     },
     "metadata": {},
     "output_type": "display_data"
    }
   ],
   "source": [
    "import matplotlib.pyplot as plt\n",
    "from p2arxivsearch import *\n",
    "%matplotlib inline\n",
    "\n",
    "#Using the functions\n",
    "'''\n",
    "maxresults=5\n",
    "dates_novel=finddate(readarxiv_title('novel',maxresults))\n",
    "dates_revisit=finddate(readarxiv_title('novel',maxresults))\n",
    "print(dates_revisit)\n",
    "'''\n",
    "#Search for specific author\n",
    "data=readarxiv_author('Kouwenhoven_L',1)\n",
    "abswcount=abstract_word_count(data)\n",
    "print (abswcount)\n",
    "#plot the data as \n",
    "plt.hist(abswcount)\n",
    "plt.xlabel(\"number of words in abstract\")\n",
    "plt.ylabel(\"number of papers\")"
   ]
  },
  {
   "cell_type": "code",
   "execution_count": null,
   "metadata": {
    "collapsed": true
   },
   "outputs": [],
   "source": []
  },
  {
   "cell_type": "code",
   "execution_count": null,
   "metadata": {
    "collapsed": true
   },
   "outputs": [],
   "source": []
  }
 ],
 "metadata": {
  "anaconda-cloud": {},
  "kernelspec": {
   "display_name": "Python 2",
   "language": "python",
   "name": "python2"
  },
  "language_info": {
   "codemirror_mode": {
    "name": "ipython",
    "version": 2
   },
   "file_extension": ".py",
   "mimetype": "text/x-python",
   "name": "python",
   "nbconvert_exporter": "python",
   "pygments_lexer": "ipython2",
   "version": "2.7.11"
  }
 },
 "nbformat": 4,
 "nbformat_minor": 1
}
