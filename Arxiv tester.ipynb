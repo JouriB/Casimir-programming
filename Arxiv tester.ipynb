{
 "cells": [
  {
   "cell_type": "code",
   "execution_count": 2,
   "metadata": {
    "collapsed": false
   },
   "outputs": [
    {
     "name": "stdout",
     "output_type": "stream",
     "text": [
      "[ 92  88  88 100 101 131  76  69  73  95  53 111 175 168  86  80  88 102\n",
      "  94 161  67  73 210  84 127 147 223 183 149 276 185  89  93 168  87 159\n",
      "  85  95  82  88 136 121 116  88  89  97  87 179 192  90  69  91 142  74\n",
      "  97 116 138 150 134  75 130 106 109 103 143 150  77 151 157  97  94  77\n",
      " 114 116 101  85 101  92 112 105  97  99  99  88 194  84 170 124 107  92\n",
      " 112  83 106 145 150 178 117  92 123 106]\n"
     ]
    },
    {
     "data": {
      "text/plain": [
       "<matplotlib.text.Text at 0x7faec6634c50>"
      ]
     },
     "execution_count": 2,
     "metadata": {},
     "output_type": "execute_result"
    },
    {
     "data": {
      "image/png": "[encoded data removed]",
      "text/plain": [
       "<matplotlib.figure.Figure at 0x7faec6628850>"
      ]
     },
     "metadata": {},
     "output_type": "display_data"
    }
   ],
   "source": [
    "import matplotlib.pyplot as plt\n",
    "from p2arxivsearch import *\n",
    "%matplotlib inline\n",
    "\n",
    "#Using the functions\n",
    "'''\n",
    "maxresults=5\n",
    "dates_novel=finddate(readarxiv_title('novel',maxresults))\n",
    "dates_revisit=finddate(readarxiv_title('novel',maxresults))\n",
    "print(dates_revisit)\n",
    "'''\n",
    "#Search for specific author\n",
    "data=readarxiv_author('Kouwenhoven_L',100)\n",
    "abswcount=abstract_word_count(data)\n",
    "print (abswcount)\n",
    "#plot the data as \n",
    "plt.hist(abswcount)\n",
    "plt.xlabel(\"number of words in abstract\")\n",
    "plt.ylabel(\"number of papers\")"
   ]
  },
  {
   "cell_type": "code",
   "execution_count": null,
   "metadata": {
    "collapsed": true
   },
   "outputs": [],
   "source": []
  },
  {
   "cell_type": "code",
   "execution_count": null,
   "metadata": {
    "collapsed": true
   },
   "outputs": [],
   "source": []
  }
 ],
 "metadata": {
  "anaconda-cloud": {},
  "kernelspec": {
   "display_name": "Python 2",
   "language": "python",
   "name": "python2"
  },
  "language_info": {
   "codemirror_mode": {
    "name": "ipython",
    "version": 2
   },
   "file_extension": ".py",
   "mimetype": "text/x-python",
   "name": "python",
   "nbconvert_exporter": "python",
   "pygments_lexer": "ipython2",
   "version": "2.7.11"
  }
 },
 "nbformat": 4,
 "nbformat_minor": 1
}
