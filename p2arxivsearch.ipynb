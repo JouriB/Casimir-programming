{
 "cells": [
  {
   "cell_type": "code",
   "execution_count": 44,
   "metadata": {
    "collapsed": false
   },
   "outputs": [
    {
     "name": "stdout",
     "output_type": "stream",
     "text": [
      "['2000-01-13', '2005-08-18', '2005-01-12', '1991-12-16', '2001-09-25', '2002-07-16', '2005-10-16', '2007-07-18', '2011-10-01', '2010-10-07']\n"
     ]
    }
   ],
   "source": [
    "import urllib\n",
    "import matplotlib as plt\n",
    "%matplotlib inline\n",
    "# Request library\n",
    "#Specify URL for search\n",
    "\n",
    "#Searching for a title\n",
    "title='novel'\n",
    "maxresults='10'\n",
    "\n",
    "def readarxiv(title,maxresults=10):\n",
    "    url = 'http://export.arxiv.org/api/query?search_query=ti:'+ title + '&start=0&max_results=' + maxresults\n",
    "    data = urllib.urlopen(url).read()\n",
    "    return data\n",
    "\n",
    "#print (data)\n",
    "\n",
    "# read title, abstract, authors\n",
    "\n",
    "# search for title (novel, revisit)\n",
    "\n",
    "def finddate(data):\n",
    "    dates=[]\n",
    "    lines=data.split('\\n')\n",
    "    for n in range(len(lines)):\n",
    "        ind=lines[n].find('<published>')\n",
    "        if ind != -1:\n",
    "            dates.append(lines[n][ind+11:ind+21])\n",
    "    return dates\n",
    "\n",
    "dates_novel=finddate(readarxiv('novel',maxresults))\n",
    "dates_revisit=finddate(readarxiv('novel',maxresults))\n",
    "\n",
    "print(dates_revisit)\n",
    "\n",
    "#    return\n",
    "\n",
    "# count words in the abstract"
   ]
  },
  {
   "cell_type": "code",
   "execution_count": null,
   "metadata": {
    "collapsed": true
   },
   "outputs": [],
   "source": []
  }
 ],
 "metadata": {
  "anaconda-cloud": {},
  "kernelspec": {
   "display_name": "Python 2",
   "language": "python",
   "name": "python2"
  },
  "language_info": {
   "codemirror_mode": {
    "name": "ipython",
    "version": 2
   },
   "file_extension": ".py",
   "mimetype": "text/x-python",
   "name": "python",
   "nbconvert_exporter": "python",
   "pygments_lexer": "ipython2",
   "version": "2.7.11"
  }
 },
 "nbformat": 4,
 "nbformat_minor": 1
}
