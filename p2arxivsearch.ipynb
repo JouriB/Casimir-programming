{
 "cells": [
  {
   "cell_type": "code",
   "execution_count": 63,
   "metadata": {
    "collapsed": false
   },
   "outputs": [],
   "source": [
    "import urllib\n",
    "import numpy as np\n",
    "import matplotlib.pyplot as plt\n",
    "% matplotlib inline\n",
    "# Request library\n",
    "#Specify URL for search\n",
    "\n",
    "#Searching for a title\n",
    "title='novel'\n",
    "\n",
    "url = 'http://export.arxiv.org/api/query?search_query=ti:'+ title + '&start=0'\n",
    "\n",
    "#Do search and print\n",
    "data = urllib.urlopen(url).read()\n"
   ]
  },
  {
   "cell_type": "code",
   "execution_count": 65,
   "metadata": {
    "collapsed": false
   },
   "outputs": [
    {
     "name": "stdout",
     "output_type": "stream",
     "text": [
      "[ 92  88  88 100 101 131  76  69  73  95  53 111 168 175  86  80  88 102\n",
      "  94 161  67  73 210  84 127 147 223 149 183 276 185  89  93 168  87 159\n",
      "  85  95  82  88 136 121 116  88  89  97  87 179 192  90  69  91 142  74\n",
      "  97 116 138 150 134  75 130 106 150 109 103 143  77 151 157  97  94  77\n",
      " 114 116 101  85 101  92 112 178 105  97  99  99  88 194  84 170 124 107\n",
      "  92 112  83 117  92 123 106 145 150 106 169  79 114 104  94 104 132 100\n",
      " 232  86  98 114]\n"
     ]
    },
    {
     "data": {
      "text/plain": [
       "<matplotlib.text.Text at 0x7ff7cc09b810>"
      ]
     },
     "execution_count": 65,
     "metadata": {},
     "output_type": "execute_result"
    },
    {
     "data": {
      "image/png": "[encoded data removed]",
      "text/plain": [
       "<matplotlib.figure.Figure at 0x7ff7c643a090>"
      ]
     },
     "metadata": {},
     "output_type": "display_data"
    }
   ],
   "source": [
    "#Search for specific author\n",
    "author='Kouwenhoven_L'\n",
    "\n",
    "url = 'http://export.arxiv.org/api/query?search_query=au:'+ author + '&start=0&max_results=10000'\n",
    "data = urllib.urlopen(url).read()\n",
    "words=data.split() # extract the words from the query\n",
    "\n",
    "sumstart=[]\n",
    "sumend=[]\n",
    "for i in range(len(words)-1):\n",
    "    if words[i]==\"<summary>\": # look up the word <summary> and save the index\n",
    "        sumstart.append(i)\n",
    "    elif words[i]==\"</summary>\": # look up the word </summary> and save the index\n",
    "        sumend.append(i)       \n",
    "sumstart=np.array(sumstart) #make a numpy array for processing\n",
    "sumend=np.array(sumend)\n",
    "abswcount=sumend-sumstart -1 # count the number of words per abstract\n",
    "\n",
    "#plot the data as \n",
    "plt.hist(abswcount)\n",
    "plt.xlabel(\"number of words in abstract\")\n",
    "plt.ylabel(\"number of papers\")\n"
   ]
  },
  {
   "cell_type": "code",
   "execution_count": 23,
   "metadata": {
    "collapsed": false
   },
   "outputs": [
    {
     "name": "stdout",
     "output_type": "stream",
     "text": [
      "23674394\n"
     ]
    }
   ],
   "source": []
  },
  {
   "cell_type": "code",
   "execution_count": null,
   "metadata": {
    "collapsed": true
   },
   "outputs": [],
   "source": []
  }
 ],
 "metadata": {
  "anaconda-cloud": {},
  "kernelspec": {
   "display_name": "Python 2",
   "language": "python",
   "name": "python2"
  },
  "language_info": {
   "codemirror_mode": {
    "name": "ipython",
    "version": 2
   },
   "file_extension": ".py",
   "mimetype": "text/x-python",
   "name": "python",
   "nbconvert_exporter": "python",
   "pygments_lexer": "ipython2",
   "version": "2.7.11"
  }
 },
 "nbformat": 4,
 "nbformat_minor": 1
}
